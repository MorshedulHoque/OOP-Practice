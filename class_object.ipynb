{
 "cells": [
  {
   "cell_type": "code",
   "execution_count": 6,
   "id": "d717cb3c",
   "metadata": {},
   "outputs": [],
   "source": [
    "class course:\n",
    "    def course_details(self):\n",
    "        print(\"This is a course details.\")"
   ]
  },
  {
   "cell_type": "code",
   "execution_count": 7,
   "id": "6a52b751",
   "metadata": {},
   "outputs": [],
   "source": [
    "c = course()"
   ]
  },
  {
   "cell_type": "code",
   "execution_count": 8,
   "id": "ef7a52bb",
   "metadata": {},
   "outputs": [
    {
     "name": "stdout",
     "output_type": "stream",
     "text": [
      "This is a course details.\n"
     ]
    }
   ],
   "source": [
    "c.course_details()"
   ]
  },
  {
   "cell_type": "code",
   "execution_count": 9,
   "id": "23a49ec3",
   "metadata": {},
   "outputs": [
    {
     "name": "stdout",
     "output_type": "stream",
     "text": [
      "This is a course details.\n"
     ]
    }
   ],
   "source": [
    "c2 = course()\n",
    "c2.course_details()"
   ]
  },
  {
   "cell_type": "code",
   "execution_count": 10,
   "id": "3164ca74",
   "metadata": {},
   "outputs": [],
   "source": [
    "class course:\n",
    "    def course_details(self, course_name, course_mentor):\n",
    "        print(f\"This is a course details for {course_name} mentored by {course_mentor}\")"
   ]
  },
  {
   "cell_type": "code",
   "execution_count": 11,
   "id": "37a2e5ad",
   "metadata": {},
   "outputs": [
    {
     "name": "stdout",
     "output_type": "stream",
     "text": [
      "This is a course details for Python mentored by Jhon\n"
     ]
    }
   ],
   "source": [
    "c3 = course()\n",
    "c3.course_details(\"Python\", \"Jhon\")"
   ]
  },
  {
   "cell_type": "code",
   "execution_count": 16,
   "id": "3f1dd796",
   "metadata": {},
   "outputs": [],
   "source": [
    "class course2:\n",
    "    def __init__(self, name, mentor):\n",
    "        self.name = name\n",
    "        self.mentor = mentor"
   ]
  },
  {
   "cell_type": "code",
   "execution_count": 17,
   "id": "1b9b2ff3",
   "metadata": {},
   "outputs": [],
   "source": [
    "c = course2(\"Python\", \"Jhon\")"
   ]
  },
  {
   "cell_type": "code",
   "execution_count": 18,
   "id": "79264227",
   "metadata": {},
   "outputs": [
    {
     "data": {
      "text/plain": [
       "'Python'"
      ]
     },
     "execution_count": 18,
     "metadata": {},
     "output_type": "execute_result"
    }
   ],
   "source": [
    "c.name"
   ]
  },
  {
   "cell_type": "code",
   "execution_count": null,
   "id": "210347ac",
   "metadata": {},
   "outputs": [],
   "source": [
    "class course2:\n",
    "    def __init__(self, name, mentor):\n",
    "        self.name = name\n",
    "        self.mentor = mentor\n",
    "    \n",
    "    def display(self):\n",
    "        print(self.name, self.mentor)"
   ]
  },
  {
   "cell_type": "code",
   "execution_count": 21,
   "id": "f7cee758",
   "metadata": {},
   "outputs": [
    {
     "name": "stdout",
     "output_type": "stream",
     "text": [
      "Python Jhon\n"
     ]
    }
   ],
   "source": [
    "c4 = course2(\"Python\", \"Jhon\")\n",
    "c4.display()"
   ]
  }
 ],
 "metadata": {
  "kernelspec": {
   "display_name": "Python 3",
   "language": "python",
   "name": "python3"
  },
  "language_info": {
   "codemirror_mode": {
    "name": "ipython",
    "version": 3
   },
   "file_extension": ".py",
   "mimetype": "text/x-python",
   "name": "python",
   "nbconvert_exporter": "python",
   "pygments_lexer": "ipython3",
   "version": "3.12.5"
  }
 },
 "nbformat": 4,
 "nbformat_minor": 5
}
