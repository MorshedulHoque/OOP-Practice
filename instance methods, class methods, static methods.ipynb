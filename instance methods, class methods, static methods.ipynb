{
 "cells": [
  {
   "cell_type": "markdown",
   "id": "07cce8a1",
   "metadata": {},
   "source": [
    "Instance Methods"
   ]
  },
  {
   "cell_type": "code",
   "execution_count": 1,
   "id": "6e2ba94f",
   "metadata": {},
   "outputs": [],
   "source": [
    "class mentor:\n",
    "    def __init__(self, name):\n",
    "        self.name = name\n",
    "    \n",
    "    def instruction(self):\n",
    "        print(f\"{self.name} is giving instructions.\")"
   ]
  },
  {
   "cell_type": "code",
   "execution_count": 2,
   "metadata": {},
   "outputs": [
    {
     "name": "stdout",
     "output_type": "stream",
     "text": [
      "John is giving instructions.\n"
     ]
    }
   ],
   "source": [
    "a = mentor(\"John\")\n",
    "a.instruction()"
   ]
  },
  {
   "cell_type": "code",
   "execution_count": 3,
   "id": "c29b0352",
   "metadata": {},
   "outputs": [
    {
     "name": "stdout",
     "output_type": "stream",
     "text": [
      "Alice is giving instructions.\n"
     ]
    }
   ],
   "source": [
    "b = mentor(\"Alice\")\n",
    "b.instruction()"
   ]
  },
  {
   "cell_type": "code",
   "execution_count": 4,
   "id": "2c87b423",
   "metadata": {},
   "outputs": [],
   "source": [
    "class course:\n",
    "    total_courses = 0\n",
    "\n",
    "    def __init__(self, name):\n",
    "        self.name = name\n",
    "        course.total_courses += 1\n",
    "\n",
    "    @classmethod\n",
    "    def get_total_score(cls):\n",
    "        return cls.total_courses"
   ]
  },
  {
   "cell_type": "code",
   "execution_count": 11,
   "id": "e41037b6",
   "metadata": {},
   "outputs": [],
   "source": [
    "c = course(\"Python\")"
   ]
  },
  {
   "cell_type": "code",
   "execution_count": 9,
   "id": "e97e5b69",
   "metadata": {},
   "outputs": [
    {
     "data": {
      "text/plain": [
       "2"
      ]
     },
     "execution_count": 9,
     "metadata": {},
     "output_type": "execute_result"
    }
   ],
   "source": [
    "c.get_total_score()"
   ]
  },
  {
   "cell_type": "code",
   "execution_count": 12,
   "id": "1aa504b4",
   "metadata": {},
   "outputs": [
    {
     "data": {
      "text/plain": [
       "3"
      ]
     },
     "execution_count": 12,
     "metadata": {},
     "output_type": "execute_result"
    }
   ],
   "source": [
    "course.get_total_score()"
   ]
  },
  {
   "cell_type": "markdown",
   "id": "b89c52f9",
   "metadata": {},
   "source": [
    "Static Methods"
   ]
  },
  {
   "cell_type": "code",
   "execution_count": 13,
   "id": "ae48134f",
   "metadata": {},
   "outputs": [],
   "source": [
    "class students:\n",
    "    @staticmethod\n",
    "    def is_valid_email(email):\n",
    "        return \"@\" in email and \".\" in email"
   ]
  },
  {
   "cell_type": "code",
   "execution_count": 16,
   "id": "b8e32192",
   "metadata": {},
   "outputs": [
    {
     "data": {
      "text/plain": [
       "True"
      ]
     },
     "execution_count": 16,
     "metadata": {},
     "output_type": "execute_result"
    }
   ],
   "source": [
    "students.is_valid_email(\"utsho@mail.com\")"
   ]
  }
 ],
 "metadata": {
  "kernelspec": {
   "display_name": "Python 3",
   "language": "python",
   "name": "python3"
  },
  "language_info": {
   "codemirror_mode": {
    "name": "ipython",
    "version": 3
   },
   "file_extension": ".py",
   "mimetype": "text/x-python",
   "name": "python",
   "nbconvert_exporter": "python",
   "pygments_lexer": "ipython3",
   "version": "3.12.5"
  }
 },
 "nbformat": 4,
 "nbformat_minor": 5
}
