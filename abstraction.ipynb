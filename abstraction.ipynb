{
 "cells": [
  {
   "cell_type": "code",
   "execution_count": 1,
   "id": "be6ad554",
   "metadata": {},
   "outputs": [],
   "source": [
    "from abc import ABC, abstractmethod\n"
   ]
  },
  {
   "cell_type": "markdown",
   "id": "6618e764",
   "metadata": {},
   "source": [
    "Never be abble to create any object/instance/variable of abstract based class "
   ]
  },
  {
   "cell_type": "code",
   "execution_count": null,
   "id": "c918ec44",
   "metadata": {},
   "outputs": [],
   "source": [
    "class mentor(ABC):\n",
    "    @abstractmethod\n",
    "    def teach(self):\n",
    "        pass\n",
    "    \n",
    "    @abstractmethod\n",
    "    def mentor(self):\n",
    "        pass\n",
    "\n",
    "    @abstractmethod\n",
    "    def course(self):\n",
    "        pass"
   ]
  },
  {
   "cell_type": "code",
   "execution_count": 3,
   "id": "9abae8af",
   "metadata": {},
   "outputs": [],
   "source": [
    "class instition(mentor):\n",
    "    def teach(self):\n",
    "        return \"I am teaching Python\"\n",
    "    \n",
    "    def mentor(self):\n",
    "        return \"I am mentoring Python\"\n",
    "    \n",
    "    def course(self):\n",
    "        return \"I am teaching Python course\""
   ]
  },
  {
   "cell_type": "code",
   "execution_count": 4,
   "id": "a374096e",
   "metadata": {},
   "outputs": [],
   "source": [
    "a = instition()"
   ]
  },
  {
   "cell_type": "code",
   "execution_count": 8,
   "metadata": {},
   "outputs": [
    {
     "data": {
      "text/plain": [
       "'I am teaching Python'"
      ]
     },
     "execution_count": 8,
     "metadata": {},
     "output_type": "execute_result"
    }
   ],
   "source": [
    "a.teach()"
   ]
  },
  {
   "cell_type": "code",
   "execution_count": 9,
   "metadata": {},
   "outputs": [],
   "source": [
    "class mentor(ABC):\n",
    "    @abstractmethod\n",
    "    def teach(self):\n",
    "        pass\n",
    "    \n",
    "    @abstractmethod\n",
    "    def mentor(self):\n",
    "        pass\n",
    "\n",
    "    @abstractmethod\n",
    "    def course(self):\n",
    "        pass\n",
    "\n",
    "    def welcomme(self):\n",
    "        return \"Welcome to the class\""
   ]
  },
  {
   "cell_type": "code",
   "execution_count": 10,
   "id": "d32fce06",
   "metadata": {},
   "outputs": [],
   "source": [
    "class instition(mentor):\n",
    "    def teach(self):\n",
    "        return \"I am teaching Python\"\n",
    "    \n",
    "    def mentor(self):\n",
    "        return \"I am mentoring Python\"\n",
    "    \n",
    "    def course(self):\n",
    "        return \"I am teaching Python course\""
   ]
  },
  {
   "cell_type": "code",
   "execution_count": 11,
   "id": "60ee7401",
   "metadata": {},
   "outputs": [],
   "source": [
    "b = instition()"
   ]
  },
  {
   "cell_type": "code",
   "execution_count": 14,
   "id": "35ba727b",
   "metadata": {},
   "outputs": [
    {
     "data": {
      "text/plain": [
       "'Welcome to the class'"
      ]
     },
     "execution_count": 14,
     "metadata": {},
     "output_type": "execute_result"
    }
   ],
   "source": [
    "b.welcomme()"
   ]
  }
 ],
 "metadata": {
  "kernelspec": {
   "display_name": "Python 3",
   "language": "python",
   "name": "python3"
  },
  "language_info": {
   "codemirror_mode": {
    "name": "ipython",
    "version": 3
   },
   "file_extension": ".py",
   "mimetype": "text/x-python",
   "name": "python",
   "nbconvert_exporter": "python",
   "pygments_lexer": "ipython3",
   "version": "3.12.5"
  }
 },
 "nbformat": 4,
 "nbformat_minor": 5
}
