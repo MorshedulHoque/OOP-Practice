{
 "cells": [
  {
   "cell_type": "code",
   "execution_count": 1,
   "id": "9c729dd9",
   "metadata": {},
   "outputs": [],
   "source": [
    "class mentor:\n",
    "    def __init__(self, name):\n",
    "        self.name = name\n",
    "    \n",
    "    def show(self):\n",
    "        return f\"Mentor Name: {self.name}\""
   ]
  },
  {
   "cell_type": "code",
   "execution_count": 2,
   "id": "201a10f3",
   "metadata": {},
   "outputs": [],
   "source": [
    "class SchoolMentor(mentor):\n",
    "    pass"
   ]
  },
  {
   "cell_type": "code",
   "execution_count": 5,
   "id": "72b1bde5",
   "metadata": {},
   "outputs": [],
   "source": [
    "a = SchoolMentor(\"John Doe\")"
   ]
  },
  {
   "cell_type": "code",
   "execution_count": 6,
   "metadata": {},
   "outputs": [
    {
     "data": {
      "text/plain": [
       "'Mentor Name: John Doe'"
      ]
     },
     "execution_count": 6,
     "metadata": {},
     "output_type": "execute_result"
    }
   ],
   "source": [
    "a.show()"
   ]
  },
  {
   "cell_type": "code",
   "execution_count": null,
   "id": "53f37c70",
   "metadata": {},
   "outputs": [],
   "source": [
    "class mentor2:  # parent class\n",
    "    def __init__(self, name):\n",
    "        self.name = name\n",
    "    \n",
    "    def show(self):\n",
    "        return f\"Mentor Name: {self.name}\""
   ]
  },
  {
   "cell_type": "code",
   "execution_count": null,
   "metadata": {},
   "outputs": [],
   "source": [
    "class SchoolMentor2(mentor2):   # child class\n",
    "    def assign_course(self, course):\n",
    "        print(f\"Course '{course}' assigned to {self.name}\")"
   ]
  },
  {
   "cell_type": "code",
   "execution_count": 34,
   "id": "67919dc7",
   "metadata": {},
   "outputs": [],
   "source": [
    "b = SchoolMentor2(\"Jane Doe\")"
   ]
  },
  {
   "cell_type": "code",
   "execution_count": 35,
   "id": "7b24a365",
   "metadata": {},
   "outputs": [
    {
     "data": {
      "text/plain": [
       "'Mentor Name: Jane Doe'"
      ]
     },
     "execution_count": 35,
     "metadata": {},
     "output_type": "execute_result"
    }
   ],
   "source": [
    "b.show()"
   ]
  },
  {
   "cell_type": "code",
   "execution_count": 36,
   "id": "c0de56a4",
   "metadata": {},
   "outputs": [
    {
     "name": "stdout",
     "output_type": "stream",
     "text": [
      "Course 'Python Programming' assigned to Jane Doe\n"
     ]
    }
   ],
   "source": [
    "b.assign_course(\"Python Programming\")"
   ]
  },
  {
   "cell_type": "code",
   "execution_count": 37,
   "id": "a5473326",
   "metadata": {},
   "outputs": [],
   "source": [
    "class mentor3:\n",
    "    def intro(self):\n",
    "        print(\"I am a mentor\")"
   ]
  },
  {
   "cell_type": "code",
   "execution_count": 41,
   "id": "51f96dc8",
   "metadata": {},
   "outputs": [],
   "source": [
    "class SchoolMentor3(mentor3):\n",
    "    def intro(self):\n",
    "        super().intro()\n",
    "        print(\"I am a school mentor\")"
   ]
  },
  {
   "cell_type": "code",
   "execution_count": 42,
   "id": "228023d8",
   "metadata": {},
   "outputs": [],
   "source": [
    "c = SchoolMentor3()"
   ]
  },
  {
   "cell_type": "code",
   "execution_count": 43,
   "id": "09b01049",
   "metadata": {},
   "outputs": [
    {
     "name": "stdout",
     "output_type": "stream",
     "text": [
      "I am a mentor\n",
      "I am a school mentor\n"
     ]
    }
   ],
   "source": [
    "c.intro()"
   ]
  },
  {
   "cell_type": "code",
   "execution_count": 51,
   "id": "fab0f700",
   "metadata": {},
   "outputs": [],
   "source": [
    "class course:\n",
    "    def __init__(self, title):\n",
    "        self.title = title\n",
    "        print(f\"Course '{self.title}' created.\")"
   ]
  },
  {
   "cell_type": "code",
   "execution_count": 52,
   "id": "4147ce1a",
   "metadata": {},
   "outputs": [],
   "source": [
    "class SchoolMentor3(course):\n",
    "    def __init__(self, title, mentor):\n",
    "        super().__init__(title=title)\n",
    "        self.mentor = mentor\n",
    "        print(f\"Course '{self.title}' assigned to mentor {self.mentor}\")"
   ]
  },
  {
   "cell_type": "code",
   "execution_count": 53,
   "id": "85cf2c49",
   "metadata": {},
   "outputs": [
    {
     "name": "stdout",
     "output_type": "stream",
     "text": [
      "Course 'Data Science' created.\n",
      "Course 'Data Science' assigned to mentor Alice\n"
     ]
    }
   ],
   "source": [
    "d = SchoolMentor3(\"Data Science\", \"Alice\")"
   ]
  },
  {
   "cell_type": "markdown",
   "id": "4aa80103",
   "metadata": {},
   "source": [
    "Multilevel inheritence"
   ]
  },
  {
   "cell_type": "code",
   "execution_count": 54,
   "id": "9c69ab97",
   "metadata": {},
   "outputs": [],
   "source": [
    "class institution:\n",
    "    def show(self):\n",
    "        return \"This is an educational institution.\"\n",
    "    \n",
    "class course(institution):\n",
    "    def display_course(self):\n",
    "        print(\"This is a course offered by the institution.\") \n",
    "\n",
    "class das(course):\n",
    "    def intor(self):\n",
    "        print(\"This is a DSA course.\")"
   ]
  },
  {
   "cell_type": "code",
   "execution_count": 55,
   "id": "f55e9f75",
   "metadata": {},
   "outputs": [],
   "source": [
    "e = das()"
   ]
  },
  {
   "cell_type": "code",
   "execution_count": 56,
   "id": "865669fc",
   "metadata": {},
   "outputs": [
    {
     "data": {
      "text/plain": [
       "'This is an educational institution.'"
      ]
     },
     "execution_count": 56,
     "metadata": {},
     "output_type": "execute_result"
    }
   ],
   "source": [
    "e.show()"
   ]
  },
  {
   "cell_type": "markdown",
   "id": "fdab2929",
   "metadata": {},
   "source": [
    "Multiple inheritence"
   ]
  },
  {
   "cell_type": "code",
   "execution_count": 62,
   "metadata": {},
   "outputs": [],
   "source": [
    "class design:\n",
    "    def ui(self):\n",
    "        print(\"This is a UI design course.\")\n",
    "\n",
    "class curriculum:\n",
    "    def syllabus(self):\n",
    "        print(\"This is the syllabus for the UI design course.\")\n",
    "\n",
    "class institution(design, curriculum):\n",
    "    pass"
   ]
  },
  {
   "cell_type": "code",
   "execution_count": 64,
   "metadata": {},
   "outputs": [],
   "source": [
    "f = institution()"
   ]
  },
  {
   "cell_type": "code",
   "execution_count": 65,
   "id": "55d0e025",
   "metadata": {},
   "outputs": [
    {
     "name": "stdout",
     "output_type": "stream",
     "text": [
      "This is a UI design course.\n",
      "This is the syllabus for the UI design course.\n"
     ]
    }
   ],
   "source": [
    "f.ui()\n",
    "f.syllabus()"
   ]
  },
  {
   "cell_type": "code",
   "execution_count": 67,
   "id": "482c68d2",
   "metadata": {},
   "outputs": [
    {
     "data": {
      "text/plain": [
       "[__main__.institution, __main__.design, __main__.curriculum, object]"
      ]
     },
     "execution_count": 67,
     "metadata": {},
     "output_type": "execute_result"
    }
   ],
   "source": [
    "institution.mro()"
   ]
  }
 ],
 "metadata": {
  "kernelspec": {
   "display_name": "Python 3",
   "language": "python",
   "name": "python3"
  },
  "language_info": {
   "codemirror_mode": {
    "name": "ipython",
    "version": 3
   },
   "file_extension": ".py",
   "mimetype": "text/x-python",
   "name": "python",
   "nbconvert_exporter": "python",
   "pygments_lexer": "ipython3",
   "version": "3.12.5"
  }
 },
 "nbformat": 4,
 "nbformat_minor": 5
}
