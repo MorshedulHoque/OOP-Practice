{
 "cells": [
  {
   "cell_type": "code",
   "execution_count": 1,
   "id": "7053fd6f",
   "metadata": {},
   "outputs": [],
   "source": [
    "class student:\n",
    "    def __init__(self, name):\n",
    "        self.name = name"
   ]
  },
  {
   "cell_type": "code",
   "execution_count": 2,
   "metadata": {},
   "outputs": [],
   "source": [
    "a = student(\"Utsho\")"
   ]
  },
  {
   "cell_type": "code",
   "execution_count": 3,
   "id": "40d0af7d",
   "metadata": {},
   "outputs": [
    {
     "data": {
      "text/plain": [
       "'Utsho'"
      ]
     },
     "execution_count": 3,
     "metadata": {},
     "output_type": "execute_result"
    }
   ],
   "source": [
    "a.name"
   ]
  },
  {
   "cell_type": "code",
   "execution_count": null,
   "id": "bb123770",
   "metadata": {},
   "outputs": [],
   "source": [
    "class student:\n",
    "    def __init__(self, name):\n",
    "        self._name = name"
   ]
  },
  {
   "cell_type": "code",
   "execution_count": 7,
   "metadata": {},
   "outputs": [],
   "source": [
    "b = student(\"Utsho New\")"
   ]
  },
  {
   "cell_type": "code",
   "execution_count": 8,
   "metadata": {},
   "outputs": [
    {
     "data": {
      "text/plain": [
       "'Utsho New'"
      ]
     },
     "execution_count": 8,
     "metadata": {},
     "output_type": "execute_result"
    }
   ],
   "source": [
    "b._name"
   ]
  },
  {
   "cell_type": "code",
   "execution_count": null,
   "id": "1dfc686e",
   "metadata": {},
   "outputs": [],
   "source": [
    "class student:\n",
    "    def __init__(self, name):\n",
    "        self.__name = name  # here __name is private variable"
   ]
  },
  {
   "cell_type": "code",
   "execution_count": 10,
   "id": "7ec354c4",
   "metadata": {},
   "outputs": [],
   "source": [
    "c = student(\"Utsho New2\")"
   ]
  },
  {
   "cell_type": "code",
   "execution_count": 12,
   "id": "303cbd10",
   "metadata": {},
   "outputs": [
    {
     "data": {
      "text/plain": [
       "'Utsho New2'"
      ]
     },
     "execution_count": 12,
     "metadata": {},
     "output_type": "execute_result"
    }
   ],
   "source": [
    "c._student__name"
   ]
  },
  {
   "cell_type": "code",
   "execution_count": 15,
   "id": "50099fec",
   "metadata": {},
   "outputs": [],
   "source": [
    "class student:\n",
    "    def __init__(self, name):\n",
    "        self.__name = name  # here __name is private variable\n",
    "    \n",
    "    def get_name(self):\n",
    "        return self.__name"
   ]
  },
  {
   "cell_type": "code",
   "execution_count": 16,
   "id": "8d537156",
   "metadata": {},
   "outputs": [],
   "source": [
    "d = student(\"Utsho New3\")"
   ]
  },
  {
   "cell_type": "code",
   "execution_count": 18,
   "metadata": {},
   "outputs": [
    {
     "data": {
      "text/plain": [
       "'Utsho New3'"
      ]
     },
     "execution_count": 18,
     "metadata": {},
     "output_type": "execute_result"
    }
   ],
   "source": [
    "d.get_name()"
   ]
  }
 ],
 "metadata": {
  "kernelspec": {
   "display_name": "Python 3",
   "language": "python",
   "name": "python3"
  },
  "language_info": {
   "codemirror_mode": {
    "name": "ipython",
    "version": 3
   },
   "file_extension": ".py",
   "mimetype": "text/x-python",
   "name": "python",
   "nbconvert_exporter": "python",
   "pygments_lexer": "ipython3",
   "version": "3.12.5"
  }
 },
 "nbformat": 4,
 "nbformat_minor": 5
}
