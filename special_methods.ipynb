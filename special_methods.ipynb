{
 "cells": [
  {
   "cell_type": "markdown",
   "id": "baa467d4",
   "metadata": {},
   "source": [
    "Constructor"
   ]
  },
  {
   "cell_type": "code",
   "execution_count": 1,
   "id": "294f082f",
   "metadata": {},
   "outputs": [],
   "source": [
    "class course:\n",
    "    def __init__(self, name, mentor):\n",
    "        self.name = name\n",
    "        self.mentor = mentor\n",
    "    "
   ]
  },
  {
   "cell_type": "code",
   "execution_count": 3,
   "id": "62fe2d6e",
   "metadata": {},
   "outputs": [],
   "source": [
    "c = course(\"Python\", \"Jhon\")"
   ]
  },
  {
   "cell_type": "code",
   "execution_count": 4,
   "id": "f96284d8",
   "metadata": {},
   "outputs": [],
   "source": [
    "class course2:\n",
    "    def __init__(self, name, mentor):\n",
    "        self.name = name\n",
    "        self.mentor = mentor\n",
    "    \n",
    "    def __str__(self):\n",
    "        return f\"Course Name: {self.name}, Mentor: {self.mentor}\""
   ]
  },
  {
   "cell_type": "code",
   "execution_count": 5,
   "id": "f7d0d404",
   "metadata": {},
   "outputs": [],
   "source": [
    "c2 = course2(\"Python\", \"Jhon\")"
   ]
  },
  {
   "cell_type": "code",
   "execution_count": 7,
   "id": "5700f6ac",
   "metadata": {},
   "outputs": [
    {
     "name": "stdout",
     "output_type": "stream",
     "text": [
      "Course Name: Python, Mentor: Jhon\n"
     ]
    }
   ],
   "source": [
    "print(c2)"
   ]
  },
  {
   "cell_type": "code",
   "execution_count": 17,
   "id": "547dd9ac",
   "metadata": {},
   "outputs": [],
   "source": [
    "class course3:\n",
    "    def __init__(self, name, mentor):\n",
    "        self.name = name\n",
    "        self.mentor = mentor\n",
    "    \n",
    "    def __str__(self):\n",
    "        return f\"Course Name: {self.name}, Mentor: {self.mentor}\"\n",
    "    \n",
    "    def __eq__(self, value):\n",
    "        return self.name == value.name"
   ]
  },
  {
   "cell_type": "code",
   "execution_count": 22,
   "id": "b285666c",
   "metadata": {},
   "outputs": [],
   "source": [
    "co1 = course3(\"Python\", \"John Doe\")\n",
    "co2 = course3(\"Python\", \"John Doe\")"
   ]
  },
  {
   "cell_type": "code",
   "execution_count": 23,
   "id": "0125c087",
   "metadata": {},
   "outputs": [
    {
     "data": {
      "text/plain": [
       "True"
      ]
     },
     "execution_count": 23,
     "metadata": {},
     "output_type": "execute_result"
    }
   ],
   "source": [
    "co1 == co2"
   ]
  },
  {
   "cell_type": "code",
   "execution_count": null,
   "id": "3dc81285",
   "metadata": {},
   "outputs": [],
   "source": [
    "class course4:\n",
    "    def __init__(self, name, mentor):\n",
    "        self.name = name\n",
    "        self.mentor = mentor\n",
    "    \n",
    "    def __str__(self):\n",
    "        return f\"Course Name: {self.name}, Mentor: {self.mentor}\"\n",
    "    \n",
    "    def __eq__(self, value):\n",
    "        return self.name == value.name\n",
    "\n",
    "    def __len__(self):\n",
    "        return len(self.name)"
   ]
  },
  {
   "cell_type": "code",
   "execution_count": 33,
   "id": "5e4443b9",
   "metadata": {},
   "outputs": [],
   "source": [
    "a = course4([\"Python\",\"Big Data\", \"Data Science\"], \"John Doe\")\n",
    "b = course4(\"Python\", \"John Doe\")"
   ]
  },
  {
   "cell_type": "code",
   "execution_count": 34,
   "metadata": {},
   "outputs": [
    {
     "data": {
      "text/plain": [
       "3"
      ]
     },
     "execution_count": 34,
     "metadata": {},
     "output_type": "execute_result"
    }
   ],
   "source": [
    "len(a)"
   ]
  },
  {
   "cell_type": "code",
   "execution_count": 36,
   "id": "405d4d0f",
   "metadata": {},
   "outputs": [
    {
     "data": {
      "text/plain": [
       "6"
      ]
     },
     "execution_count": 36,
     "metadata": {},
     "output_type": "execute_result"
    }
   ],
   "source": [
    "len(b)"
   ]
  },
  {
   "cell_type": "code",
   "execution_count": 37,
   "id": "7062427a",
   "metadata": {},
   "outputs": [],
   "source": [
    "class course5:\n",
    "    def __init__(self, name, mentor):\n",
    "        self.name = name\n",
    "        self.mentor = mentor\n",
    "    \n",
    "    def __str__(self):\n",
    "        return f\"Course Name: {self.name}, Mentor: {self.mentor}\"\n",
    "    \n",
    "    def __eq__(self, value):\n",
    "        return self.name == value.name\n",
    "\n",
    "    def __len__(self):\n",
    "        return len(self.name)\n",
    "    \n",
    "    def __del__(self):\n",
    "        print(\"I will delete this object\")"
   ]
  },
  {
   "cell_type": "code",
   "execution_count": 38,
   "id": "c3f5f36c",
   "metadata": {},
   "outputs": [],
   "source": [
    "class course6:\n",
    "    def __init__(self, name, mentor):\n",
    "        self.name = name\n",
    "        self.mentor = mentor\n",
    "    \n",
    "    def __str__(self):\n",
    "        return f\"Course Name: {self.name}, Mentor: {self.mentor}\"\n",
    "    \n",
    "    def __eq__(self, value):\n",
    "        return self.name == value.name\n",
    "\n",
    "    def __len__(self):\n",
    "        return len(self.name)\n",
    "    \n",
    "    def __del__(self):\n",
    "        print(\"I will delete this object\")\n",
    "\n",
    "    def __call__(self):\n",
    "        return f\"Course Name: {self.name}, Mentor: {self.mentor}\""
   ]
  },
  {
   "cell_type": "code",
   "execution_count": 39,
   "id": "bce547ab",
   "metadata": {},
   "outputs": [],
   "source": [
    "a = course6(\"Python\", \"John Doe\")"
   ]
  },
  {
   "cell_type": "code",
   "execution_count": 40,
   "id": "3b1abd0d",
   "metadata": {},
   "outputs": [
    {
     "data": {
      "text/plain": [
       "'John Doe'"
      ]
     },
     "execution_count": 40,
     "metadata": {},
     "output_type": "execute_result"
    }
   ],
   "source": [
    "a.mentor"
   ]
  },
  {
   "cell_type": "code",
   "execution_count": 41,
   "id": "4fad3936",
   "metadata": {},
   "outputs": [
    {
     "data": {
      "text/plain": [
       "'Course Name: Python, Mentor: John Doe'"
      ]
     },
     "execution_count": 41,
     "metadata": {},
     "output_type": "execute_result"
    }
   ],
   "source": [
    "a()"
   ]
  }
 ],
 "metadata": {
  "kernelspec": {
   "display_name": "Python 3",
   "language": "python",
   "name": "python3"
  },
  "language_info": {
   "codemirror_mode": {
    "name": "ipython",
    "version": 3
   },
   "file_extension": ".py",
   "mimetype": "text/x-python",
   "name": "python",
   "nbconvert_exporter": "python",
   "pygments_lexer": "ipython3",
   "version": "3.12.5"
  }
 },
 "nbformat": 4,
 "nbformat_minor": 5
}
